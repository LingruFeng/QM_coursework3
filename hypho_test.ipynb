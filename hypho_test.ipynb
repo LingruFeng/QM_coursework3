{
 "cells": [
  {
   "cell_type": "markdown",
   "metadata": {},
   "source": [
    "# QM final assessment code"
   ]
  },
  {
   "cell_type": "markdown",
   "metadata": {},
   "source": [
    "## import relevant packages"
   ]
  },
  {
   "cell_type": "code",
   "execution_count": 1,
   "metadata": {},
   "outputs": [],
   "source": [
    "import numpy as np\n",
    "import scipy.stats as sps\n",
    "import pandas as pd\n",
    "import matplotlib.pyplot as plt"
   ]
  },
  {
   "cell_type": "markdown",
   "metadata": {},
   "source": [
    "## Get the data"
   ]
  },
  {
   "cell_type": "code",
   "execution_count": 2,
   "metadata": {},
   "outputs": [
    {
     "name": "stdout",
     "output_type": "stream",
     "text": [
      "Data frame is 33 x 20\n"
     ]
    },
    {
     "data": {
      "text/html": [
       "<div>\n",
       "<style scoped>\n",
       "    .dataframe tbody tr th:only-of-type {\n",
       "        vertical-align: middle;\n",
       "    }\n",
       "\n",
       "    .dataframe tbody tr th {\n",
       "        vertical-align: top;\n",
       "    }\n",
       "\n",
       "    .dataframe thead th {\n",
       "        text-align: right;\n",
       "    }\n",
       "</style>\n",
       "<table border=\"1\" class=\"dataframe\">\n",
       "  <thead>\n",
       "    <tr style=\"text-align: right;\">\n",
       "      <th></th>\n",
       "      <th>female_ft_2010</th>\n",
       "      <th>male_ft_2010</th>\n",
       "      <th>female_ft_2011</th>\n",
       "      <th>male_ft_2011</th>\n",
       "      <th>female_ft_2012</th>\n",
       "      <th>male_ft_2012</th>\n",
       "      <th>female_ft_2013</th>\n",
       "      <th>male_ft_2013</th>\n",
       "      <th>female_ft_2014</th>\n",
       "      <th>male_ft_2014</th>\n",
       "      <th>female_ft_2015</th>\n",
       "      <th>male_ft_2015</th>\n",
       "      <th>female_ft_2016</th>\n",
       "      <th>male_ft_2016</th>\n",
       "      <th>female_ft_2017</th>\n",
       "      <th>male_ft_2017</th>\n",
       "      <th>female_ft_2018</th>\n",
       "      <th>male_ft_2018</th>\n",
       "      <th>female_ft_2019</th>\n",
       "      <th>male_ft_2019</th>\n",
       "    </tr>\n",
       "  </thead>\n",
       "  <tbody>\n",
       "    <tr>\n",
       "      <th>0</th>\n",
       "      <td>718.0</td>\n",
       "      <td>1112.0</td>\n",
       "      <td>738.8</td>\n",
       "      <td>1144.2</td>\n",
       "      <td>751.8</td>\n",
       "      <td>1041.2</td>\n",
       "      <td>747.4</td>\n",
       "      <td>1064.9</td>\n",
       "      <td>749.4</td>\n",
       "      <td>1082.3</td>\n",
       "      <td>766.6</td>\n",
       "      <td>1054.2</td>\n",
       "      <td>796.8</td>\n",
       "      <td>1108.3</td>\n",
       "      <td>799.6</td>\n",
       "      <td>1149.9</td>\n",
       "      <td>838.3</td>\n",
       "      <td>1218.4</td>\n",
       "      <td>841.5</td>\n",
       "      <td>1197.8</td>\n",
       "    </tr>\n",
       "    <tr>\n",
       "      <th>1</th>\n",
       "      <td>440.1</td>\n",
       "      <td>573.9</td>\n",
       "      <td>443.0</td>\n",
       "      <td>609.6</td>\n",
       "      <td>505.3</td>\n",
       "      <td>699.7</td>\n",
       "      <td>596.4</td>\n",
       "      <td>689.8</td>\n",
       "      <td>569.1</td>\n",
       "      <td>655.6</td>\n",
       "      <td>471.9</td>\n",
       "      <td>681.0</td>\n",
       "      <td>451.7</td>\n",
       "      <td>672.0</td>\n",
       "      <td>493.2</td>\n",
       "      <td>656.1</td>\n",
       "      <td>517.2</td>\n",
       "      <td>621.2</td>\n",
       "      <td>453.4</td>\n",
       "      <td>641.0</td>\n",
       "    </tr>\n",
       "    <tr>\n",
       "      <th>2</th>\n",
       "      <td>490.3</td>\n",
       "      <td>651.7</td>\n",
       "      <td>538.5</td>\n",
       "      <td>615.6</td>\n",
       "      <td>503.2</td>\n",
       "      <td>642.8</td>\n",
       "      <td>512.8</td>\n",
       "      <td>632.9</td>\n",
       "      <td>498.9</td>\n",
       "      <td>675.1</td>\n",
       "      <td>524.0</td>\n",
       "      <td>655.9</td>\n",
       "      <td>508.5</td>\n",
       "      <td>640.6</td>\n",
       "      <td>542.2</td>\n",
       "      <td>657.7</td>\n",
       "      <td>542.1</td>\n",
       "      <td>624.7</td>\n",
       "      <td>570.7</td>\n",
       "      <td>653.1</td>\n",
       "    </tr>\n",
       "    <tr>\n",
       "      <th>3</th>\n",
       "      <td>466.7</td>\n",
       "      <td>571.7</td>\n",
       "      <td>455.2</td>\n",
       "      <td>554.0</td>\n",
       "      <td>478.8</td>\n",
       "      <td>582.2</td>\n",
       "      <td>489.0</td>\n",
       "      <td>552.6</td>\n",
       "      <td>471.4</td>\n",
       "      <td>602.1</td>\n",
       "      <td>433.2</td>\n",
       "      <td>613.2</td>\n",
       "      <td>488.0</td>\n",
       "      <td>613.0</td>\n",
       "      <td>554.2</td>\n",
       "      <td>599.6</td>\n",
       "      <td>528.2</td>\n",
       "      <td>635.2</td>\n",
       "      <td>558.4</td>\n",
       "      <td>644.8</td>\n",
       "    </tr>\n",
       "    <tr>\n",
       "      <th>4</th>\n",
       "      <td>497.6</td>\n",
       "      <td>523.6</td>\n",
       "      <td>484.7</td>\n",
       "      <td>527.5</td>\n",
       "      <td>494.5</td>\n",
       "      <td>556.3</td>\n",
       "      <td>533.1</td>\n",
       "      <td>555.4</td>\n",
       "      <td>533.0</td>\n",
       "      <td>599.8</td>\n",
       "      <td>527.7</td>\n",
       "      <td>622.5</td>\n",
       "      <td>527.9</td>\n",
       "      <td>605.0</td>\n",
       "      <td>468.7</td>\n",
       "      <td>628.1</td>\n",
       "      <td>481.7</td>\n",
       "      <td>650.4</td>\n",
       "      <td>622.2</td>\n",
       "      <td>694.8</td>\n",
       "    </tr>\n",
       "  </tbody>\n",
       "</table>\n",
       "</div>"
      ],
      "text/plain": [
       "   female_ft_2010  male_ft_2010  female_ft_2011  male_ft_2011  female_ft_2012  \\\n",
       "0           718.0        1112.0           738.8        1144.2           751.8   \n",
       "1           440.1         573.9           443.0         609.6           505.3   \n",
       "2           490.3         651.7           538.5         615.6           503.2   \n",
       "3           466.7         571.7           455.2         554.0           478.8   \n",
       "4           497.6         523.6           484.7         527.5           494.5   \n",
       "\n",
       "   male_ft_2012  female_ft_2013  male_ft_2013  female_ft_2014  male_ft_2014  \\\n",
       "0        1041.2           747.4        1064.9           749.4        1082.3   \n",
       "1         699.7           596.4         689.8           569.1         655.6   \n",
       "2         642.8           512.8         632.9           498.9         675.1   \n",
       "3         582.2           489.0         552.6           471.4         602.1   \n",
       "4         556.3           533.1         555.4           533.0         599.8   \n",
       "\n",
       "   female_ft_2015  male_ft_2015  female_ft_2016  male_ft_2016  female_ft_2017  \\\n",
       "0           766.6        1054.2           796.8        1108.3           799.6   \n",
       "1           471.9         681.0           451.7         672.0           493.2   \n",
       "2           524.0         655.9           508.5         640.6           542.2   \n",
       "3           433.2         613.2           488.0         613.0           554.2   \n",
       "4           527.7         622.5           527.9         605.0           468.7   \n",
       "\n",
       "   male_ft_2017  female_ft_2018  male_ft_2018  female_ft_2019  male_ft_2019  \n",
       "0        1149.9           838.3        1218.4           841.5        1197.8  \n",
       "1         656.1           517.2         621.2           453.4         641.0  \n",
       "2         657.7           542.1         624.7           570.7         653.1  \n",
       "3         599.6           528.2         635.2           558.4         644.8  \n",
       "4         628.1           481.7         650.4           622.2         694.8  "
      ]
     },
     "execution_count": 2,
     "metadata": {},
     "output_type": "execute_result"
    }
   ],
   "source": [
    "url = 'https://raw.githubusercontent.com/LingruFeng/QM_coursework3/main/data/gender_fulltime_weekly.csv'\n",
    "df = pd.read_csv(url, low_memory=False)\n",
    "print(f\"Data frame is {df.shape[0]:,} x {df.shape[1]}\")\n",
    "# Look at the first few rows:\n",
    "df.head()"
   ]
  },
  {
   "cell_type": "markdown",
   "metadata": {},
   "source": [
    "## Creat the gender pay gap data frame"
   ]
  },
  {
   "cell_type": "code",
   "execution_count": 3,
   "metadata": {},
   "outputs": [],
   "source": [
    "data=pd.DataFrame()\n",
    "data[\"gap_2010\"]=(df.male_ft_2010-df.female_ft_2010)/df.male_ft_2010\n",
    "data[\"gap_2011\"]=(df.male_ft_2011-df.female_ft_2011)/df.male_ft_2011\n",
    "data[\"gap_2012\"]=(df.male_ft_2012-df.female_ft_2012)/df.male_ft_2012\n",
    "data[\"gap_2013\"]=(df.male_ft_2013-df.female_ft_2013)/df.male_ft_2013\n",
    "data[\"gap_2014\"]=(df.male_ft_2014-df.female_ft_2014)/df.male_ft_2014\n",
    "data[\"gap_2015\"]=(df.male_ft_2015-df.female_ft_2015)/df.male_ft_2015\n",
    "data[\"gap_2016\"]=(df.male_ft_2016-df.female_ft_2016)/df.male_ft_2016\n",
    "data[\"gap_2017\"]=(df.male_ft_2017-df.female_ft_2017)/df.male_ft_2017\n",
    "data[\"gap_2018\"]=(df.male_ft_2018-df.female_ft_2018)/df.male_ft_2018\n",
    "data[\"gap_2019\"]=(df.male_ft_2019-df.female_ft_2019)/df.male_ft_2019"
   ]
  },
  {
   "cell_type": "code",
   "execution_count": 4,
   "metadata": {},
   "outputs": [
    {
     "data": {
      "text/html": [
       "<div>\n",
       "<style scoped>\n",
       "    .dataframe tbody tr th:only-of-type {\n",
       "        vertical-align: middle;\n",
       "    }\n",
       "\n",
       "    .dataframe tbody tr th {\n",
       "        vertical-align: top;\n",
       "    }\n",
       "\n",
       "    .dataframe thead th {\n",
       "        text-align: right;\n",
       "    }\n",
       "</style>\n",
       "<table border=\"1\" class=\"dataframe\">\n",
       "  <thead>\n",
       "    <tr style=\"text-align: right;\">\n",
       "      <th></th>\n",
       "      <th>gap_2010</th>\n",
       "      <th>gap_2011</th>\n",
       "      <th>gap_2012</th>\n",
       "      <th>gap_2013</th>\n",
       "      <th>gap_2014</th>\n",
       "      <th>gap_2015</th>\n",
       "      <th>gap_2016</th>\n",
       "      <th>gap_2017</th>\n",
       "      <th>gap_2018</th>\n",
       "      <th>gap_2019</th>\n",
       "    </tr>\n",
       "  </thead>\n",
       "  <tbody>\n",
       "    <tr>\n",
       "      <th>0</th>\n",
       "      <td>0.354317</td>\n",
       "      <td>0.354309</td>\n",
       "      <td>0.277949</td>\n",
       "      <td>0.298150</td>\n",
       "      <td>0.307586</td>\n",
       "      <td>0.272814</td>\n",
       "      <td>0.281061</td>\n",
       "      <td>0.304635</td>\n",
       "      <td>0.311967</td>\n",
       "      <td>0.297462</td>\n",
       "    </tr>\n",
       "    <tr>\n",
       "      <th>1</th>\n",
       "      <td>0.233142</td>\n",
       "      <td>0.273294</td>\n",
       "      <td>0.277833</td>\n",
       "      <td>0.135402</td>\n",
       "      <td>0.131940</td>\n",
       "      <td>0.307048</td>\n",
       "      <td>0.327827</td>\n",
       "      <td>0.248285</td>\n",
       "      <td>0.167418</td>\n",
       "      <td>0.292668</td>\n",
       "    </tr>\n",
       "    <tr>\n",
       "      <th>2</th>\n",
       "      <td>0.247660</td>\n",
       "      <td>0.125244</td>\n",
       "      <td>0.217175</td>\n",
       "      <td>0.189761</td>\n",
       "      <td>0.260998</td>\n",
       "      <td>0.201098</td>\n",
       "      <td>0.206213</td>\n",
       "      <td>0.175612</td>\n",
       "      <td>0.132223</td>\n",
       "      <td>0.126168</td>\n",
       "    </tr>\n",
       "    <tr>\n",
       "      <th>3</th>\n",
       "      <td>0.183663</td>\n",
       "      <td>0.178339</td>\n",
       "      <td>0.177602</td>\n",
       "      <td>0.115092</td>\n",
       "      <td>0.217074</td>\n",
       "      <td>0.293542</td>\n",
       "      <td>0.203915</td>\n",
       "      <td>0.075717</td>\n",
       "      <td>0.168451</td>\n",
       "      <td>0.133995</td>\n",
       "    </tr>\n",
       "    <tr>\n",
       "      <th>4</th>\n",
       "      <td>0.049656</td>\n",
       "      <td>0.081137</td>\n",
       "      <td>0.111091</td>\n",
       "      <td>0.040151</td>\n",
       "      <td>0.111370</td>\n",
       "      <td>0.152289</td>\n",
       "      <td>0.127438</td>\n",
       "      <td>0.253781</td>\n",
       "      <td>0.259379</td>\n",
       "      <td>0.104491</td>\n",
       "    </tr>\n",
       "  </tbody>\n",
       "</table>\n",
       "</div>"
      ],
      "text/plain": [
       "   gap_2010  gap_2011  gap_2012  gap_2013  gap_2014  gap_2015  gap_2016  \\\n",
       "0  0.354317  0.354309  0.277949  0.298150  0.307586  0.272814  0.281061   \n",
       "1  0.233142  0.273294  0.277833  0.135402  0.131940  0.307048  0.327827   \n",
       "2  0.247660  0.125244  0.217175  0.189761  0.260998  0.201098  0.206213   \n",
       "3  0.183663  0.178339  0.177602  0.115092  0.217074  0.293542  0.203915   \n",
       "4  0.049656  0.081137  0.111091  0.040151  0.111370  0.152289  0.127438   \n",
       "\n",
       "   gap_2017  gap_2018  gap_2019  \n",
       "0  0.304635  0.311967  0.297462  \n",
       "1  0.248285  0.167418  0.292668  \n",
       "2  0.175612  0.132223  0.126168  \n",
       "3  0.075717  0.168451  0.133995  \n",
       "4  0.253781  0.259379  0.104491  "
      ]
     },
     "execution_count": 4,
     "metadata": {},
     "output_type": "execute_result"
    }
   ],
   "source": [
    "data.head()"
   ]
  },
  {
   "cell_type": "markdown",
   "metadata": {},
   "source": [
    "Print some summary information:"
   ]
  },
  {
   "cell_type": "code",
   "execution_count": 174,
   "metadata": {},
   "outputs": [
    {
     "data": {
      "text/html": [
       "<div>\n",
       "<style scoped>\n",
       "    .dataframe tbody tr th:only-of-type {\n",
       "        vertical-align: middle;\n",
       "    }\n",
       "\n",
       "    .dataframe tbody tr th {\n",
       "        vertical-align: top;\n",
       "    }\n",
       "\n",
       "    .dataframe thead th {\n",
       "        text-align: right;\n",
       "    }\n",
       "</style>\n",
       "<table border=\"1\" class=\"dataframe\">\n",
       "  <thead>\n",
       "    <tr style=\"text-align: right;\">\n",
       "      <th></th>\n",
       "      <th>gap_2010</th>\n",
       "      <th>gap_2011</th>\n",
       "      <th>gap_2012</th>\n",
       "      <th>gap_2013</th>\n",
       "      <th>gap_2014</th>\n",
       "      <th>gap_2015</th>\n",
       "      <th>gap_2016</th>\n",
       "      <th>gap_2017</th>\n",
       "      <th>gap_2018</th>\n",
       "      <th>gap_2019</th>\n",
       "    </tr>\n",
       "  </thead>\n",
       "  <tbody>\n",
       "    <tr>\n",
       "      <th>count</th>\n",
       "      <td>33.000000</td>\n",
       "      <td>33.000000</td>\n",
       "      <td>33.000000</td>\n",
       "      <td>33.000000</td>\n",
       "      <td>33.000000</td>\n",
       "      <td>33.000000</td>\n",
       "      <td>33.000000</td>\n",
       "      <td>33.000000</td>\n",
       "      <td>33.000000</td>\n",
       "      <td>33.000000</td>\n",
       "    </tr>\n",
       "    <tr>\n",
       "      <th>mean</th>\n",
       "      <td>0.156957</td>\n",
       "      <td>0.154761</td>\n",
       "      <td>0.139385</td>\n",
       "      <td>0.139396</td>\n",
       "      <td>0.143283</td>\n",
       "      <td>0.159372</td>\n",
       "      <td>0.161641</td>\n",
       "      <td>0.173488</td>\n",
       "      <td>0.166534</td>\n",
       "      <td>0.152062</td>\n",
       "    </tr>\n",
       "    <tr>\n",
       "      <th>std</th>\n",
       "      <td>0.071325</td>\n",
       "      <td>0.083624</td>\n",
       "      <td>0.069391</td>\n",
       "      <td>0.082093</td>\n",
       "      <td>0.071612</td>\n",
       "      <td>0.069021</td>\n",
       "      <td>0.073423</td>\n",
       "      <td>0.078341</td>\n",
       "      <td>0.075946</td>\n",
       "      <td>0.067084</td>\n",
       "    </tr>\n",
       "    <tr>\n",
       "      <th>min</th>\n",
       "      <td>-0.015608</td>\n",
       "      <td>-0.017989</td>\n",
       "      <td>-0.010072</td>\n",
       "      <td>-0.049114</td>\n",
       "      <td>-0.002186</td>\n",
       "      <td>0.050726</td>\n",
       "      <td>0.030174</td>\n",
       "      <td>-0.030276</td>\n",
       "      <td>0.000356</td>\n",
       "      <td>0.029443</td>\n",
       "    </tr>\n",
       "    <tr>\n",
       "      <th>25%</th>\n",
       "      <td>0.118381</td>\n",
       "      <td>0.096826</td>\n",
       "      <td>0.082129</td>\n",
       "      <td>0.100087</td>\n",
       "      <td>0.099216</td>\n",
       "      <td>0.113771</td>\n",
       "      <td>0.109968</td>\n",
       "      <td>0.120599</td>\n",
       "      <td>0.117289</td>\n",
       "      <td>0.116574</td>\n",
       "    </tr>\n",
       "    <tr>\n",
       "      <th>50%</th>\n",
       "      <td>0.148722</td>\n",
       "      <td>0.160132</td>\n",
       "      <td>0.146617</td>\n",
       "      <td>0.147926</td>\n",
       "      <td>0.144153</td>\n",
       "      <td>0.144077</td>\n",
       "      <td>0.169700</td>\n",
       "      <td>0.177360</td>\n",
       "      <td>0.165923</td>\n",
       "      <td>0.149494</td>\n",
       "    </tr>\n",
       "    <tr>\n",
       "      <th>75%</th>\n",
       "      <td>0.193726</td>\n",
       "      <td>0.211815</td>\n",
       "      <td>0.191388</td>\n",
       "      <td>0.189761</td>\n",
       "      <td>0.181491</td>\n",
       "      <td>0.193060</td>\n",
       "      <td>0.206213</td>\n",
       "      <td>0.202534</td>\n",
       "      <td>0.209361</td>\n",
       "      <td>0.189346</td>\n",
       "    </tr>\n",
       "    <tr>\n",
       "      <th>max</th>\n",
       "      <td>0.354317</td>\n",
       "      <td>0.354309</td>\n",
       "      <td>0.277949</td>\n",
       "      <td>0.298150</td>\n",
       "      <td>0.307586</td>\n",
       "      <td>0.307048</td>\n",
       "      <td>0.327827</td>\n",
       "      <td>0.375515</td>\n",
       "      <td>0.323521</td>\n",
       "      <td>0.297462</td>\n",
       "    </tr>\n",
       "  </tbody>\n",
       "</table>\n",
       "</div>"
      ],
      "text/plain": [
       "        gap_2010   gap_2011   gap_2012   gap_2013   gap_2014   gap_2015  \\\n",
       "count  33.000000  33.000000  33.000000  33.000000  33.000000  33.000000   \n",
       "mean    0.156957   0.154761   0.139385   0.139396   0.143283   0.159372   \n",
       "std     0.071325   0.083624   0.069391   0.082093   0.071612   0.069021   \n",
       "min    -0.015608  -0.017989  -0.010072  -0.049114  -0.002186   0.050726   \n",
       "25%     0.118381   0.096826   0.082129   0.100087   0.099216   0.113771   \n",
       "50%     0.148722   0.160132   0.146617   0.147926   0.144153   0.144077   \n",
       "75%     0.193726   0.211815   0.191388   0.189761   0.181491   0.193060   \n",
       "max     0.354317   0.354309   0.277949   0.298150   0.307586   0.307048   \n",
       "\n",
       "        gap_2016   gap_2017   gap_2018   gap_2019  \n",
       "count  33.000000  33.000000  33.000000  33.000000  \n",
       "mean    0.161641   0.173488   0.166534   0.152062  \n",
       "std     0.073423   0.078341   0.075946   0.067084  \n",
       "min     0.030174  -0.030276   0.000356   0.029443  \n",
       "25%     0.109968   0.120599   0.117289   0.116574  \n",
       "50%     0.169700   0.177360   0.165923   0.149494  \n",
       "75%     0.206213   0.202534   0.209361   0.189346  \n",
       "max     0.327827   0.375515   0.323521   0.297462  "
      ]
     },
     "execution_count": 174,
     "metadata": {},
     "output_type": "execute_result"
    }
   ],
   "source": [
    "m=data.describe()\n",
    "m"
   ]
  },
  {
   "cell_type": "code",
   "execution_count": 175,
   "metadata": {},
   "outputs": [
    {
     "data": {
      "text/html": [
       "<div>\n",
       "<style scoped>\n",
       "    .dataframe tbody tr th:only-of-type {\n",
       "        vertical-align: middle;\n",
       "    }\n",
       "\n",
       "    .dataframe tbody tr th {\n",
       "        vertical-align: top;\n",
       "    }\n",
       "\n",
       "    .dataframe thead th {\n",
       "        text-align: right;\n",
       "    }\n",
       "</style>\n",
       "<table border=\"1\" class=\"dataframe\">\n",
       "  <thead>\n",
       "    <tr style=\"text-align: right;\">\n",
       "      <th></th>\n",
       "      <th>mean</th>\n",
       "      <th>min</th>\n",
       "      <th>max</th>\n",
       "      <th>std</th>\n",
       "    </tr>\n",
       "  </thead>\n",
       "  <tbody>\n",
       "    <tr>\n",
       "      <th>2010</th>\n",
       "      <td>15.70</td>\n",
       "      <td>-1.56</td>\n",
       "      <td>35.43</td>\n",
       "      <td>0.071</td>\n",
       "    </tr>\n",
       "    <tr>\n",
       "      <th>2011</th>\n",
       "      <td>15.48</td>\n",
       "      <td>-1.80</td>\n",
       "      <td>35.43</td>\n",
       "      <td>0.084</td>\n",
       "    </tr>\n",
       "    <tr>\n",
       "      <th>2012</th>\n",
       "      <td>13.94</td>\n",
       "      <td>-1.01</td>\n",
       "      <td>27.79</td>\n",
       "      <td>0.069</td>\n",
       "    </tr>\n",
       "    <tr>\n",
       "      <th>2013</th>\n",
       "      <td>13.94</td>\n",
       "      <td>-4.91</td>\n",
       "      <td>29.82</td>\n",
       "      <td>0.082</td>\n",
       "    </tr>\n",
       "    <tr>\n",
       "      <th>2014</th>\n",
       "      <td>14.33</td>\n",
       "      <td>-0.22</td>\n",
       "      <td>30.76</td>\n",
       "      <td>0.072</td>\n",
       "    </tr>\n",
       "    <tr>\n",
       "      <th>2015</th>\n",
       "      <td>15.94</td>\n",
       "      <td>5.07</td>\n",
       "      <td>30.70</td>\n",
       "      <td>0.069</td>\n",
       "    </tr>\n",
       "    <tr>\n",
       "      <th>2016</th>\n",
       "      <td>16.16</td>\n",
       "      <td>3.02</td>\n",
       "      <td>32.78</td>\n",
       "      <td>0.073</td>\n",
       "    </tr>\n",
       "    <tr>\n",
       "      <th>2017</th>\n",
       "      <td>17.35</td>\n",
       "      <td>-3.03</td>\n",
       "      <td>37.55</td>\n",
       "      <td>0.078</td>\n",
       "    </tr>\n",
       "    <tr>\n",
       "      <th>2018</th>\n",
       "      <td>16.65</td>\n",
       "      <td>0.04</td>\n",
       "      <td>32.35</td>\n",
       "      <td>0.076</td>\n",
       "    </tr>\n",
       "    <tr>\n",
       "      <th>2019</th>\n",
       "      <td>15.21</td>\n",
       "      <td>2.94</td>\n",
       "      <td>29.75</td>\n",
       "      <td>0.067</td>\n",
       "    </tr>\n",
       "  </tbody>\n",
       "</table>\n",
       "</div>"
      ],
      "text/plain": [
       "       mean   min    max    std\n",
       "2010  15.70 -1.56  35.43  0.071\n",
       "2011  15.48 -1.80  35.43  0.084\n",
       "2012  13.94 -1.01  27.79  0.069\n",
       "2013  13.94 -4.91  29.82  0.082\n",
       "2014  14.33 -0.22  30.76  0.072\n",
       "2015  15.94  5.07  30.70  0.069\n",
       "2016  16.16  3.02  32.78  0.073\n",
       "2017  17.35 -3.03  37.55  0.078\n",
       "2018  16.65  0.04  32.35  0.076\n",
       "2019  15.21  2.94  29.75  0.067"
      ]
     },
     "execution_count": 175,
     "metadata": {},
     "output_type": "execute_result"
    }
   ],
   "source": [
    "m.columns = [2010,2011,2012,2013,2014,2015,2016,2017,2018,2019]\n",
    "m = pd.DataFrame(m.values.T, index=m.columns, columns=m.index)\n",
    "m = m[['mean','min','max','std']]\n",
    "m['mean']=round(m[['mean']]*100,2)\n",
    "m['min']=round(m[['min']]*100,2)\n",
    "m['max']=round(m[['max']]*100,2)\n",
    "m['std']=round(m[['std']],3)\n",
    "m"
   ]
  },
  {
   "cell_type": "markdown",
   "metadata": {},
   "source": [
    "## Line chart of the gender pay gap in 10 years"
   ]
  },
  {
   "cell_type": "code",
   "execution_count": 177,
   "metadata": {},
   "outputs": [
    {
     "data": {
      "text/html": [
       "<div>\n",
       "<style scoped>\n",
       "    .dataframe tbody tr th:only-of-type {\n",
       "        vertical-align: middle;\n",
       "    }\n",
       "\n",
       "    .dataframe tbody tr th {\n",
       "        vertical-align: top;\n",
       "    }\n",
       "\n",
       "    .dataframe thead th {\n",
       "        text-align: right;\n",
       "    }\n",
       "</style>\n",
       "<table border=\"1\" class=\"dataframe\">\n",
       "  <thead>\n",
       "    <tr style=\"text-align: right;\">\n",
       "      <th></th>\n",
       "      <th>mean (%)</th>\n",
       "    </tr>\n",
       "  </thead>\n",
       "  <tbody>\n",
       "    <tr>\n",
       "      <th>2010</th>\n",
       "      <td>15.70</td>\n",
       "    </tr>\n",
       "    <tr>\n",
       "      <th>2011</th>\n",
       "      <td>15.48</td>\n",
       "    </tr>\n",
       "    <tr>\n",
       "      <th>2012</th>\n",
       "      <td>13.94</td>\n",
       "    </tr>\n",
       "    <tr>\n",
       "      <th>2013</th>\n",
       "      <td>13.94</td>\n",
       "    </tr>\n",
       "    <tr>\n",
       "      <th>2014</th>\n",
       "      <td>14.33</td>\n",
       "    </tr>\n",
       "    <tr>\n",
       "      <th>2015</th>\n",
       "      <td>15.94</td>\n",
       "    </tr>\n",
       "    <tr>\n",
       "      <th>2016</th>\n",
       "      <td>16.16</td>\n",
       "    </tr>\n",
       "    <tr>\n",
       "      <th>2017</th>\n",
       "      <td>17.35</td>\n",
       "    </tr>\n",
       "    <tr>\n",
       "      <th>2018</th>\n",
       "      <td>16.65</td>\n",
       "    </tr>\n",
       "    <tr>\n",
       "      <th>2019</th>\n",
       "      <td>15.21</td>\n",
       "    </tr>\n",
       "  </tbody>\n",
       "</table>\n",
       "</div>"
      ],
      "text/plain": [
       "      mean (%)\n",
       "2010     15.70\n",
       "2011     15.48\n",
       "2012     13.94\n",
       "2013     13.94\n",
       "2014     14.33\n",
       "2015     15.94\n",
       "2016     16.16\n",
       "2017     17.35\n",
       "2018     16.65\n",
       "2019     15.21"
      ]
     },
     "execution_count": 177,
     "metadata": {},
     "output_type": "execute_result"
    }
   ],
   "source": [
    "n = m[['mean']]\n",
    "n.columns =['mean (%)']\n",
    "n"
   ]
  },
  {
   "cell_type": "code",
   "execution_count": 110,
   "metadata": {},
   "outputs": [],
   "source": [
    "x = np.array([2010, 2011, 2012, 2013, 2014, 2015, 2016, 2017, 2018, 2019])\n",
    "y = np.array([15.70 , 15.48, 13.94, 13.94, 14.33, 15.94, 16.16, 17.35, 16.65,15.21])"
   ]
  },
  {
   "cell_type": "code",
   "execution_count": 149,
   "metadata": {},
   "outputs": [
    {
     "data": {
      "image/png": "[encoded data removed]",
      "text/plain": [
       "<Figure size 432x288 with 1 Axes>"
      ]
     },
     "metadata": {},
     "output_type": "display_data"
    }
   ],
   "source": [
    "my_y_ticks = np.arange(0, 21, 2)\n",
    "my_x_ticks = np.arange(2010, 2020,1)\n",
    "plt.style.use('ggplot')\n",
    "n.plot(color = '#C42022',marker = 'o',markersize = 4)\n",
    "plt.yticks(my_y_ticks)\n",
    "plt.xticks(my_x_ticks)\n",
    "plt.xlabel('Year')\n",
    "plt.ylabel('Mean of gender pay gap (%)')\n",
    "for a,b in zip(x,y):\n",
    "    plt.text(a,b-2,b,ha='center',va=\"bottom\",fontsize=10)\n",
    "plt.legend()\n",
    "plt.savefig('line_chart')\n",
    "plt.show()"
   ]
  },
  {
   "cell_type": "markdown",
   "metadata": {},
   "source": [
    "## Gender pay gap difference density histogram"
   ]
  },
  {
   "cell_type": "code",
   "execution_count": 151,
   "metadata": {},
   "outputs": [
    {
     "data": {
      "image/png": "[encoded data removed]",
      "text/plain": [
       "<Figure size 576x432 with 9 Axes>"
      ]
     },
     "metadata": {},
     "output_type": "display_data"
    }
   ],
   "source": [
    "plt.figure(figsize=(8,6)) \n",
    "ax1 = plt.subplot(3,3,1)\n",
    "ax2 = plt.subplot(3,3,2)\n",
    "ax3 = plt.subplot(3,3,3)\n",
    "ax4 = plt.subplot(3,3,4)\n",
    "ax5 = plt.subplot(3,3,5)\n",
    "ax6 = plt.subplot(3,3,6)\n",
    "ax7 = plt.subplot(3,3,7)\n",
    "ax8 = plt.subplot(3,3,8)\n",
    "ax9 = plt.subplot(3,3,9)\n",
    "\n",
    "plt.sca(ax1)\n",
    "plt.ylabel('Density',fontsize=15)\n",
    "plt.xlabel('2010-2011',fontsize=15)\n",
    "(data['gap_2010']-data['gap_2011']).plot(kind = 'hist', bins = 7, color = 'yellow', edgecolor = 'black', density = True, alpha=0.75)\n",
    "(data['gap_2010']-data['gap_2011']).plot(kind = 'kde', color = 'red')\n",
    "plt.tick_params(labelsize=12)\n",
    "plt.sca(ax2)\n",
    "plt.xlabel('2011-2012',fontsize=15)\n",
    "(data['gap_2011']-data['gap_2012']).plot(kind = 'hist', bins = 7, color = 'yellow', edgecolor = 'black', density = True, alpha=0.75)\n",
    "(data['gap_2011']-data['gap_2012']).plot(kind = 'kde', color = 'red')\n",
    "plt.ylabel(' ')\n",
    "plt.tick_params(labelsize=12)\n",
    "plt.sca(ax3)\n",
    "plt.xlabel('2012-2013',fontsize=15)\n",
    "(data['gap_2012']-data['gap_2013']).plot(kind = 'hist', bins = 7, color = 'yellow', edgecolor = 'black', density = True, alpha=0.75)\n",
    "(data['gap_2012']-data['gap_2013']).plot(kind = 'kde', color = 'red')\n",
    "plt.ylabel(' ')\n",
    "plt.tick_params(labelsize=12)\n",
    "plt.sca(ax4)\n",
    "plt.xlabel('2013-2014',fontsize=15)\n",
    "plt.ylabel('Density',fontsize=15)\n",
    "(data['gap_2013']-data['gap_2014']).plot(kind = 'hist', bins = 7, color = 'yellow', edgecolor = 'black', density = True, alpha=0.75)\n",
    "(data['gap_2013']-data['gap_2014']).plot(kind = 'kde', color = 'red')\n",
    "plt.tick_params(labelsize=12)\n",
    "plt.sca(ax5)\n",
    "plt.xlabel('2014-2015',fontsize=15)\n",
    "(data['gap_2014']-data['gap_2015']).plot(kind = 'hist', bins = 7, color = 'yellow', edgecolor = 'black', density = True, alpha=0.75)\n",
    "(data['gap_2014']-data['gap_2015']).plot(kind = 'kde', color = 'red')\n",
    "plt.ylabel(' ')\n",
    "plt.tick_params(labelsize=12)\n",
    "plt.sca(ax6)\n",
    "plt.xlabel('2015-2016',fontsize=15)\n",
    "(data['gap_2015']-data['gap_2016']).plot(kind = 'hist', bins = 7, color = 'yellow', edgecolor = 'black', density = True, alpha=0.75)\n",
    "(data['gap_2015']-data['gap_2016']).plot(kind = 'kde', color = 'red')\n",
    "plt.ylabel(' ')\n",
    "plt.tick_params(labelsize=12)\n",
    "plt.sca(ax7)\n",
    "plt.xlabel('2016-2017',fontsize=15)\n",
    "plt.ylabel('Density',fontsize=15)\n",
    "(data['gap_2016']-data['gap_2017']).plot(kind = 'hist', bins = 7, color = 'yellow', edgecolor = 'black', density = True, alpha=0.75)\n",
    "(data['gap_2016']-data['gap_2017']).plot(kind = 'kde', color = 'red')\n",
    "plt.tick_params(labelsize=12)\n",
    "plt.sca(ax8)\n",
    "plt.xlabel('2017-2018',fontsize=15)\n",
    "(data['gap_2017']-data['gap_2018']).plot(kind = 'hist', bins = 7, color = 'yellow', edgecolor = 'black', density = True, alpha=0.75)\n",
    "(data['gap_2017']-data['gap_2018']).plot(kind = 'kde', color = 'red')\n",
    "plt.ylabel(' ')\n",
    "plt.tick_params(labelsize=12)\n",
    "plt.sca(ax9)\n",
    "plt.xlabel('2018-2019',fontsize=15)\n",
    "(data['gap_2018']-data['gap_2019']).plot(kind = 'hist', bins = 7, color = 'yellow', edgecolor = 'black', density = True, alpha=0.75)\n",
    "(data['gap_2018']-data['gap_2019']).plot(kind = 'kde', color = 'red')\n",
    "plt.ylabel(' ')\n",
    "plt.tick_params(labelsize=12)\n",
    "\n",
    "plt.tight_layout()\n",
    "plt.savefig('sample_density')"
   ]
  },
  {
   "cell_type": "markdown",
   "metadata": {},
   "source": [
    "## Paired t-test"
   ]
  },
  {
   "cell_type": "markdown",
   "metadata": {},
   "source": [
    "Set the significance threshold value"
   ]
  },
  {
   "cell_type": "code",
   "execution_count": 134,
   "metadata": {},
   "outputs": [],
   "source": [
    "alpha = 0.05"
   ]
  },
  {
   "cell_type": "markdown",
   "metadata": {},
   "source": [
    "***2010-2011***"
   ]
  },
  {
   "cell_type": "code",
   "execution_count": 135,
   "metadata": {},
   "outputs": [
    {
     "name": "stdout",
     "output_type": "stream",
     "text": [
      "p-value = 0.8228566099106412\n",
      "statsictic = 0.22571747221326982\n",
      "p-value >= significance threshold.\n",
      "No significant evidence to reject H0.\n",
      "Assume samples are drawn from populations with the same mean.\n"
     ]
    }
   ],
   "source": [
    "test_stat, p_value = sps.ttest_rel(data.gap_2010, data.gap_2011)\n",
    "print(\"p-value =\", p_value)\n",
    "print(\"statsictic =\", test_stat)\n",
    "# Reach a conclusion:\n",
    "if p_value < alpha:\n",
    "    print(\"p-value < significance threshold.\")\n",
    "    print(\"Reject H0. Accept H1.\")\n",
    "    print(\"Conclude that samples are drawn from populations with different means.\")\n",
    "elif p_value >= alpha:\n",
    "    print(\"p-value >= significance threshold.\")\n",
    "    print(\"No significant evidence to reject H0.\")\n",
    "    print(\"Assume samples are drawn from populations with the same mean.\")"
   ]
  },
  {
   "cell_type": "markdown",
   "metadata": {},
   "source": [
    "***2011-2012***"
   ]
  },
  {
   "cell_type": "code",
   "execution_count": 136,
   "metadata": {},
   "outputs": [
    {
     "name": "stdout",
     "output_type": "stream",
     "text": [
      "p-value = 0.13725378061951643\n",
      "statsictic = 1.524312483067002\n",
      "p-value >= significance threshold.\n",
      "No significant evidence to reject H0.\n",
      "Assume samples are drawn from populations with the same mean.\n"
     ]
    }
   ],
   "source": [
    "test_stat, p_value = sps.ttest_rel(data.gap_2011, data.gap_2012)\n",
    "print(\"p-value =\", p_value)\n",
    "print(\"statsictic =\", test_stat)\n",
    "# Reach a conclusion:\n",
    "if p_value < alpha:\n",
    "    print(\"p-value < significance threshold.\")\n",
    "    print(\"Reject H0. Accept H1.\")\n",
    "    print(\"Conclude that samples are drawn from populations with different means.\")\n",
    "elif p_value >= alpha:\n",
    "    print(\"p-value >= significance threshold.\")\n",
    "    print(\"No significant evidence to reject H0.\")\n",
    "    print(\"Assume samples are drawn from populations with the same mean.\")"
   ]
  },
  {
   "cell_type": "markdown",
   "metadata": {},
   "source": [
    "***2012-2013***"
   ]
  },
  {
   "cell_type": "code",
   "execution_count": 137,
   "metadata": {},
   "outputs": [
    {
     "name": "stdout",
     "output_type": "stream",
     "text": [
      "p-value = 0.9992645284724497\n",
      "statsictic = -0.0009290054065054297\n",
      "p-value >= significance threshold.\n",
      "No significant evidence to reject H0.\n",
      "Assume samples are drawn from populations with the same mean.\n"
     ]
    }
   ],
   "source": [
    "test_stat, p_value = sps.ttest_rel(data.gap_2012, data.gap_2013)\n",
    "print(\"p-value =\", p_value)\n",
    "print(\"statsictic =\", test_stat)\n",
    "# Reach a conclusion:\n",
    "if p_value < alpha:\n",
    "    print(\"p-value < significance threshold.\")\n",
    "    print(\"Reject H0. Accept H1.\")\n",
    "    print(\"Conclude that samples are drawn from populations with different means.\")\n",
    "elif p_value >= alpha:\n",
    "    print(\"p-value >= significance threshold.\")\n",
    "    print(\"No significant evidence to reject H0.\")\n",
    "    print(\"Assume samples are drawn from populations with the same mean.\")"
   ]
  },
  {
   "cell_type": "markdown",
   "metadata": {},
   "source": [
    "***2013-2014***"
   ]
  },
  {
   "cell_type": "code",
   "execution_count": 138,
   "metadata": {},
   "outputs": [
    {
     "name": "stdout",
     "output_type": "stream",
     "text": [
      "p-value = 0.7511025812753208\n",
      "statsictic = -0.31992787971143394\n",
      "p-value >= significance threshold.\n",
      "No significant evidence to reject H0.\n",
      "Assume samples are drawn from populations with the same mean.\n"
     ]
    }
   ],
   "source": [
    "test_stat, p_value = sps.ttest_rel(data.gap_2013, data.gap_2014)\n",
    "print(\"p-value =\", p_value)\n",
    "print(\"statsictic =\", test_stat)\n",
    "# Reach a conclusion:\n",
    "if p_value < alpha:\n",
    "    print(\"p-value < significance threshold.\")\n",
    "    print(\"Reject H0. Accept H1.\")\n",
    "    print(\"Conclude that samples are drawn from populations with different means.\")\n",
    "elif p_value >= alpha:\n",
    "    print(\"p-value >= significance threshold.\")\n",
    "    print(\"No significant evidence to reject H0.\")\n",
    "    print(\"Assume samples are drawn from populations with the same mean.\")"
   ]
  },
  {
   "cell_type": "markdown",
   "metadata": {},
   "source": [
    "***2014-2015***"
   ]
  },
  {
   "cell_type": "code",
   "execution_count": 139,
   "metadata": {},
   "outputs": [
    {
     "name": "stdout",
     "output_type": "stream",
     "text": [
      "p-value = 0.21944006710402575\n",
      "statsictic = -1.2525673763555718\n",
      "p-value >= significance threshold.\n",
      "No significant evidence to reject H0.\n",
      "Assume samples are drawn from populations with the same mean.\n"
     ]
    }
   ],
   "source": [
    "test_stat, p_value = sps.ttest_rel(data.gap_2014, data.gap_2015)\n",
    "print(\"p-value =\", p_value)\n",
    "print(\"statsictic =\", test_stat)\n",
    "# Reach a conclusion:\n",
    "if p_value < alpha:\n",
    "    print(\"p-value < significance threshold.\")\n",
    "    print(\"Reject H0. Accept H1.\")\n",
    "    print(\"Conclude that samples are drawn from populations with different means.\")\n",
    "elif p_value >= alpha:\n",
    "    print(\"p-value >= significance threshold.\")\n",
    "    print(\"No significant evidence to reject H0.\")\n",
    "    print(\"Assume samples are drawn from populations with the same mean.\")"
   ]
  },
  {
   "cell_type": "markdown",
   "metadata": {},
   "source": [
    "***2015-2016***"
   ]
  },
  {
   "cell_type": "code",
   "execution_count": 140,
   "metadata": {},
   "outputs": [
    {
     "name": "stdout",
     "output_type": "stream",
     "text": [
      "p-value = 0.7941760362924293\n",
      "statsictic = -0.2630792584648542\n",
      "p-value >= significance threshold.\n",
      "No significant evidence to reject H0.\n",
      "Assume samples are drawn from populations with the same mean.\n"
     ]
    }
   ],
   "source": [
    "test_stat, p_value = sps.ttest_rel(data.gap_2015, data.gap_2016)\n",
    "print(\"p-value =\", p_value)\n",
    "print(\"statsictic =\", test_stat)\n",
    "# Reach a conclusion:\n",
    "if p_value < alpha:\n",
    "    print(\"p-value < significance threshold.\")\n",
    "    print(\"Reject H0. Accept H1.\")\n",
    "    print(\"Conclude that samples are drawn from populations with different means.\")\n",
    "elif p_value >= alpha:\n",
    "    print(\"p-value >= significance threshold.\")\n",
    "    print(\"No significant evidence to reject H0.\")\n",
    "    print(\"Assume samples are drawn from populations with the same mean.\")"
   ]
  },
  {
   "cell_type": "markdown",
   "metadata": {},
   "source": [
    "***2016-2017***"
   ]
  },
  {
   "cell_type": "code",
   "execution_count": 141,
   "metadata": {},
   "outputs": [
    {
     "name": "stdout",
     "output_type": "stream",
     "text": [
      "p-value = 0.3379068626212943\n",
      "statsictic = -0.9728865717870816\n",
      "p-value >= significance threshold.\n",
      "No significant evidence to reject H0.\n",
      "Assume samples are drawn from populations with the same mean.\n"
     ]
    }
   ],
   "source": [
    "test_stat, p_value = sps.ttest_rel(data.gap_2016, data.gap_2017)\n",
    "print(\"p-value =\", p_value)\n",
    "print(\"statsictic =\", test_stat)\n",
    "# Reach a conclusion:\n",
    "if p_value < alpha:\n",
    "    print(\"p-value < significance threshold.\")\n",
    "    print(\"Reject H0. Accept H1.\")\n",
    "    print(\"Conclude that samples are drawn from populations with different means.\")\n",
    "elif p_value >= alpha:\n",
    "    print(\"p-value >= significance threshold.\")\n",
    "    print(\"No significant evidence to reject H0.\")\n",
    "    print(\"Assume samples are drawn from populations with the same mean.\")"
   ]
  },
  {
   "cell_type": "markdown",
   "metadata": {},
   "source": [
    "***2017-2018***"
   ]
  },
  {
   "cell_type": "code",
   "execution_count": 142,
   "metadata": {},
   "outputs": [
    {
     "name": "stdout",
     "output_type": "stream",
     "text": [
      "p-value = 0.5333170892829162\n",
      "statsictic = 0.6297687430919618\n",
      "p-value >= significance threshold.\n",
      "No significant evidence to reject H0.\n",
      "Assume samples are drawn from populations with the same mean.\n"
     ]
    }
   ],
   "source": [
    "test_stat, p_value = sps.ttest_rel(data.gap_2017, data.gap_2018)\n",
    "print(\"p-value =\", p_value)\n",
    "print(\"statsictic =\", test_stat)\n",
    "# Reach a conclusion:\n",
    "if p_value < alpha:\n",
    "    print(\"p-value < significance threshold.\")\n",
    "    print(\"Reject H0. Accept H1.\")\n",
    "    print(\"Conclude that samples are drawn from populations with different means.\")\n",
    "elif p_value >= alpha:\n",
    "    print(\"p-value >= significance threshold.\")\n",
    "    print(\"No significant evidence to reject H0.\")\n",
    "    print(\"Assume samples are drawn from populations with the same mean.\")"
   ]
  },
  {
   "cell_type": "markdown",
   "metadata": {},
   "source": [
    "***2018-2019***"
   ]
  },
  {
   "cell_type": "code",
   "execution_count": 146,
   "metadata": {},
   "outputs": [
    {
     "name": "stdout",
     "output_type": "stream",
     "text": [
      "p-value = 0.22441834627975837\n",
      "statsictic = 1.238831420333568\n",
      "p-value >= significance threshold.\n",
      "No significant evidence to reject H0.\n",
      "Assume samples are drawn from populations with the same mean.\n"
     ]
    }
   ],
   "source": [
    "test_stat, p_value = sps.ttest_rel(data.gap_2018, data.gap_2019)\n",
    "print(\"p-value =\", p_value)\n",
    "print(\"statsictic =\", test_stat)\n",
    "# Reach a conclusion:\n",
    "if p_value < alpha:\n",
    "    print(\"p-value < significance threshold.\")\n",
    "    print(\"Reject H0. Accept H1.\")\n",
    "    print(\"Conclude that samples are drawn from populations with different means.\")\n",
    "elif p_value >= alpha:\n",
    "    print(\"p-value >= significance threshold.\")\n",
    "    print(\"No significant evidence to reject H0.\")\n",
    "    print(\"Assume samples are drawn from populations with the same mean.\")"
   ]
  },
  {
   "cell_type": "code",
   "execution_count": 179,
   "metadata": {},
   "outputs": [
    {
     "data": {
      "text/plain": [
       "\u001b[0;31mSignature:\u001b[0m \u001b[0msps\u001b[0m\u001b[0;34m.\u001b[0m\u001b[0mttest_rel\u001b[0m\u001b[0;34m(\u001b[0m\u001b[0ma\u001b[0m\u001b[0;34m,\u001b[0m \u001b[0mb\u001b[0m\u001b[0;34m,\u001b[0m \u001b[0maxis\u001b[0m\u001b[0;34m=\u001b[0m\u001b[0;36m0\u001b[0m\u001b[0;34m,\u001b[0m \u001b[0mnan_policy\u001b[0m\u001b[0;34m=\u001b[0m\u001b[0;34m'propagate'\u001b[0m\u001b[0;34m)\u001b[0m\u001b[0;34m\u001b[0m\u001b[0;34m\u001b[0m\u001b[0m\n",
       "\u001b[0;31mDocstring:\u001b[0m\n",
       "Calculate the t-test on TWO RELATED samples of scores, a and b.\n",
       "\n",
       "This is a two-sided test for the null hypothesis that 2 related or\n",
       "repeated samples have identical average (expected) values.\n",
       "\n",
       "Parameters\n",
       "----------\n",
       "a, b : array_like\n",
       "    The arrays must have the same shape.\n",
       "axis : int or None, optional\n",
       "    Axis along which to compute test. If None, compute over the whole\n",
       "    arrays, `a`, and `b`.\n",
       "nan_policy : {'propagate', 'raise', 'omit'}, optional\n",
       "    Defines how to handle when input contains nan.\n",
       "    The following options are available (default is 'propagate'):\n",
       "\n",
       "      * 'propagate': returns nan\n",
       "      * 'raise': throws an error\n",
       "      * 'omit': performs the calculations ignoring nan values\n",
       "\n",
       "Returns\n",
       "-------\n",
       "statistic : float or array\n",
       "    t-statistic.\n",
       "pvalue : float or array\n",
       "    Two-sided p-value.\n",
       "\n",
       "Notes\n",
       "-----\n",
       "Examples for use are scores of the same set of student in\n",
       "different exams, or repeated sampling from the same units. The\n",
       "test measures whether the average score differs significantly\n",
       "across samples (e.g. exams). If we observe a large p-value, for\n",
       "example greater than 0.05 or 0.1 then we cannot reject the null\n",
       "hypothesis of identical average scores. If the p-value is smaller\n",
       "than the threshold, e.g. 1%, 5% or 10%, then we reject the null\n",
       "hypothesis of equal averages. Small p-values are associated with\n",
       "large t-statistics.\n",
       "\n",
       "References\n",
       "----------\n",
       "https://en.wikipedia.org/wiki/T-test#Dependent_t-test_for_paired_samples\n",
       "\n",
       "Examples\n",
       "--------\n",
       ">>> from scipy import stats\n",
       ">>> np.random.seed(12345678) # fix random seed to get same numbers\n",
       "\n",
       ">>> rvs1 = stats.norm.rvs(loc=5,scale=10,size=500)\n",
       ">>> rvs2 = (stats.norm.rvs(loc=5,scale=10,size=500) +\n",
       "...         stats.norm.rvs(scale=0.2,size=500))\n",
       ">>> stats.ttest_rel(rvs1,rvs2)\n",
       "(0.24101764965300962, 0.80964043445811562)\n",
       ">>> rvs3 = (stats.norm.rvs(loc=8,scale=10,size=500) +\n",
       "...         stats.norm.rvs(scale=0.2,size=500))\n",
       ">>> stats.ttest_rel(rvs1,rvs3)\n",
       "(-3.9995108708727933, 7.3082402191726459e-005)\n",
       "\u001b[0;31mFile:\u001b[0m      /opt/conda/envs/sds2020/lib/python3.7/site-packages/scipy/stats/stats.py\n",
       "\u001b[0;31mType:\u001b[0m      function\n"
      ]
     },
     "metadata": {},
     "output_type": "display_data"
    }
   ],
   "source": [
    "?sps.ttest_rel"
   ]
  },
  {
   "cell_type": "code",
   "execution_count": null,
   "metadata": {},
   "outputs": [],
   "source": []
  }
 ],
 "metadata": {
  "kernelspec": {
   "display_name": "Python 3",
   "language": "python",
   "name": "python3"
  },
  "language_info": {
   "codemirror_mode": {
    "name": "ipython",
    "version": 3
   },
   "file_extension": ".py",
   "mimetype": "text/x-python",
   "name": "python",
   "nbconvert_exporter": "python",
   "pygments_lexer": "ipython3",
   "version": "3.7.8"
  }
 },
 "nbformat": 4,
 "nbformat_minor": 4
}
